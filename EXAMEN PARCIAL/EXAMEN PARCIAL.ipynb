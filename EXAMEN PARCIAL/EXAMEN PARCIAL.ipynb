{
  "nbformat": 4,
  "nbformat_minor": 0,
  "metadata": {
    "colab": {
      "name": "Untitled0.ipynb",
      "provenance": [],
      "collapsed_sections": []
    },
    "kernelspec": {
      "name": "python3",
      "display_name": "Python 3"
    },
    "language_info": {
      "name": "python"
    }
  },
  "cells": [
    {
      "cell_type": "code",
      "metadata": {
        "colab": {
          "base_uri": "https://localhost:8080/"
        },
        "id": "t-VsKha4Lf13",
        "outputId": "578b52fe-559f-401e-a5a3-e5541ba226cc"
      },
      "source": [
        "#seleccionar un número al azar\n",
        "n = input(\"escoger un número al azar: \")\n",
        "#hacemos la operación\n",
        "s = (int(n) * (int(n) + 1)) // 2\n",
        "print(s)"
      ],
      "execution_count": 2,
      "outputs": [
        {
          "output_type": "stream",
          "name": "stdout",
          "text": [
            "escoger un número al azar: 45\n",
            "1035\n"
          ]
        }
      ]
    },
    {
      "cell_type": "markdown",
      "metadata": {
        "id": "B_1hngEINLgf"
      },
      "source": [
        ""
      ]
    }
  ]
}